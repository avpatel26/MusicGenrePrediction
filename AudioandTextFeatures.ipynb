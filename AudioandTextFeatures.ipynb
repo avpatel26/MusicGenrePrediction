{
 "cells": [
  {
   "cell_type": "code",
   "execution_count": 14,
   "metadata": {},
   "outputs": [],
   "source": [
    "# import packages\n",
    "import pandas as pd\n",
    "import numpy as np\n",
    "import matplotlib as mpl\n",
    "import sklearn\n",
    "import math\n",
    "import sklearn.model_selection\n",
    "from sklearn.preprocessing import LabelEncoder"
   ]
  },
  {
   "cell_type": "code",
   "execution_count": 15,
   "metadata": {},
   "outputs": [],
   "source": [
    "# load the .csv files in dataframe\n",
    "def load_data():\n",
    "    df_features = pd.read_csv(\"train_features.csv\")\n",
    "    df_labels = pd.read_csv(\"train_labels.csv\")\n",
    "    df_validate_features = pd.read_csv(\"valid_features.csv\")\n",
    "    df_validate_labels = pd.read_csv(\"valid_labels.csv\")\n",
    "    df_test_features = pd.read_csv(\"test_features.csv\")\n",
    "    return df_features, df_labels, df_validate_features, df_validate_labels, df_test_features"
   ]
  },
  {
   "cell_type": "code",
   "execution_count": 16,
   "metadata": {},
   "outputs": [],
   "source": [
    "#preprocessing of data to extract text and audio features\n",
    "def preprocess(df):\n",
    "    df1 = df.loc[:,'tags']\n",
    "    df1 = df1.str.get_dummies(sep=', ').add_prefix('tags')\n",
    "    df2 = df.loc[:,'vect_1':'vect_148']\n",
    "    return pd.concat([df1,df2],axis=1)\n"
   ]
  },
  {
   "cell_type": "code",
   "execution_count": 17,
   "metadata": {},
   "outputs": [],
   "source": [
    "# train the data using logistic regression\n",
    "import sklearn\n",
    "from sklearn.linear_model import LogisticRegression\n",
    "\n",
    "def train(train_features,train_label):\n",
    "    lr = LogisticRegression(solver='liblinear', C=0.05, multi_class='ovr', random_state=0)\n",
    "    tl = train_label['genre']\n",
    "    lr.fit(train_features, tl)\n",
    "    return lr"
   ]
  },
  {
   "cell_type": "code",
   "execution_count": 18,
   "metadata": {},
   "outputs": [],
   "source": [
    "# train the data using naive bayes\n",
    "import sklearn\n",
    "from sklearn.naive_bayes import GaussianNB\n",
    "\n",
    "def train_nb(train_features,train_label):\n",
    "    gnb = GaussianNB()\n",
    "    tl = train_label['genre']\n",
    "    gnb.fit(train_features, tl)\n",
    "    return gnb"
   ]
  },
  {
   "cell_type": "code",
   "execution_count": 19,
   "metadata": {},
   "outputs": [],
   "source": [
    "# train the data using decision tree\n",
    "from sklearn import tree\n",
    "from sklearn.tree import DecisionTreeClassifier\n",
    "\n",
    "def train_dt(train_features,train_label):\n",
    "    calssifier = DecisionTreeClassifier(criterion = \"gini\", random_state = 100,max_depth=3, min_samples_leaf=5) \n",
    "    calssifier.fit(train_features, train_label) \n",
    "    return calssifier"
   ]
  },
  {
   "cell_type": "code",
   "execution_count": 20,
   "metadata": {},
   "outputs": [],
   "source": [
    "# predict the most common class\n",
    "def zero_R_Baseline(label):\n",
    "    priors = [0]*len(set(label))\n",
    "    for i in label:\n",
    "        priors[i] += 1\n",
    "    pred = [np.argmax(priors)]*len(label)\n",
    "    return pred"
   ]
  },
  {
   "cell_type": "code",
   "execution_count": 21,
   "metadata": {},
   "outputs": [],
   "source": [
    "# predict the class based on trained classifier\n",
    "def predict(classifier, test_features):\n",
    "    preds = classifier.predict(test_features)\n",
    "    return preds"
   ]
  },
  {
   "cell_type": "code",
   "execution_count": 22,
   "metadata": {},
   "outputs": [],
   "source": [
    "# Evaluation of a set of predictions in terms of matrix\n",
    "from sklearn import metrics\n",
    "def evaluate(label,pred):\n",
    "    CM = metrics.confusion_matrix(label, pred) # Confusion Matrix\n",
    "    cr=metrics.classification_report(label, pred)\n",
    "    return CM, cr"
   ]
  },
  {
   "cell_type": "code",
   "execution_count": 23,
   "metadata": {},
   "outputs": [],
   "source": [
    "# plot the confusion matrix\n",
    "import matplotlib.pyplot as plt\n",
    "def plot(cm):\n",
    "    fig, ax = plt.subplots(figsize=(8, 8))\n",
    "    ax.imshow(cm)\n",
    "    ax.grid(False)\n",
    "    ax.set_xlabel('Predicted outputs', fontsize=12, color='black')\n",
    "    ax.set_ylabel('Actual outputs', fontsize=12, color='black')\n",
    "    ax.xaxis.set(ticks=range(8))\n",
    "    ax.yaxis.set(ticks=range(8))\n",
    "    for i in range(8):\n",
    "        for j in range(8):\n",
    "            ax.text(j, i, cm[i, j], ha='center', va='center', color='white')\n",
    "    plt.show()"
   ]
  },
  {
   "cell_type": "code",
   "execution_count": 11,
   "metadata": {},
   "outputs": [],
   "source": [
    "#load and preprocess the data\n",
    "train_features, train_label, validate_features, validate_labels, test_features = load_data()\n",
    "train_features_p = preprocess(train_features)\n",
    "validate_features_p = preprocess(validate_features)\n",
    "test_features_p = preprocess(test_features)"
   ]
  },
  {
   "cell_type": "markdown",
   "metadata": {},
   "source": [
    "### Baseline Performance (zero-R baseline)"
   ]
  },
  {
   "cell_type": "code",
   "execution_count": 24,
   "metadata": {},
   "outputs": [
    {
     "name": "stderr",
     "output_type": "stream",
     "text": [
      "C:\\Users\\avipa\\anaconda3\\lib\\site-packages\\sklearn\\metrics\\_classification.py:1272: UndefinedMetricWarning: Precision and F-score are ill-defined and being set to 0.0 in labels with no predicted samples. Use `zero_division` parameter to control this behavior.\n",
      "  _warn_prf(average, modifier, msg_start, len(result))\n"
     ]
    },
    {
     "name": "stdout",
     "output_type": "stream",
     "text": [
      "\n",
      "evaluation of Testing Data using zero-R baseline\n",
      "\n",
      "Confusion Matrix:\n"
     ]
    },
    {
     "data": {
      "image/png": "[encoded data removed]",
      "text/plain": [
       "<Figure size 576x576 with 1 Axes>"
      ]
     },
     "metadata": {
      "needs_background": "light"
     },
     "output_type": "display_data"
    },
    {
     "name": "stdout",
     "output_type": "stream",
     "text": [
      "None\n",
      "              precision    recall  f1-score   support\n",
      "\n",
      "           0       0.00      0.00      0.00        55\n",
      "           1       0.00      0.00      0.00        45\n",
      "           2       0.00      0.00      0.00        64\n",
      "           3       0.00      0.00      0.00        44\n",
      "           4       0.00      0.00      0.00        66\n",
      "           5       0.16      1.00      0.28        74\n",
      "           6       0.00      0.00      0.00        44\n",
      "           7       0.00      0.00      0.00        58\n",
      "\n",
      "    accuracy                           0.16       450\n",
      "   macro avg       0.02      0.12      0.04       450\n",
      "weighted avg       0.03      0.16      0.05       450\n",
      "\n"
     ]
    }
   ],
   "source": [
    "# evaluation of 0-R baseline\n",
    "lb = LabelEncoder()\n",
    "label = lb.fit_transform(validate_labels[\"genre\"])\n",
    "preds = zero_R_Baseline(label)\n",
    "CM, cr = evaluate(label,preds)\n",
    "print(\"\\nevaluation of Testing Data using zero-R baseline\\n\");\n",
    "print(\"Confusion Matrix:\")\n",
    "print(plot(CM))\n",
    "print(cr)"
   ]
  },
  {
   "cell_type": "markdown",
   "metadata": {},
   "source": [
    "### Perfromance of Logistic Regression on Audio and Text Features"
   ]
  },
  {
   "cell_type": "code",
   "execution_count": 25,
   "metadata": {},
   "outputs": [
    {
     "name": "stderr",
     "output_type": "stream",
     "text": [
      "C:\\Users\\avipa\\anaconda3\\lib\\site-packages\\sklearn\\svm\\_base.py:947: ConvergenceWarning: Liblinear failed to converge, increase the number of iterations.\n",
      "  \"the number of iterations.\", ConvergenceWarning)\n"
     ]
    },
    {
     "name": "stdout",
     "output_type": "stream",
     "text": [
      "\n",
      "evaluation of Testing Data using Logistic Regression\n",
      "\n",
      "Confusion Matrix:\n"
     ]
    },
    {
     "data": {
      "image/png": "[encoded data removed]",
      "text/plain": [
       "<Figure size 576x576 with 1 Axes>"
      ]
     },
     "metadata": {
      "needs_background": "light"
     },
     "output_type": "display_data"
    },
    {
     "name": "stdout",
     "output_type": "stream",
     "text": [
      "None\n",
      "                       precision    recall  f1-score   support\n",
      "\n",
      " classic pop and rock       0.42      0.67      0.52        55\n",
      "dance and electronica       0.56      0.20      0.30        45\n",
      "                 folk       0.44      0.67      0.53        64\n",
      "       jazz and blues       0.75      0.07      0.12        44\n",
      "                metal       0.92      0.74      0.82        66\n",
      "                  pop       0.92      0.96      0.94        74\n",
      "                 punk       0.59      0.77      0.67        44\n",
      "      soul and reggae       0.72      0.71      0.71        58\n",
      "\n",
      "             accuracy                           0.64       450\n",
      "            macro avg       0.67      0.60      0.58       450\n",
      "         weighted avg       0.68      0.64      0.61       450\n",
      "\n"
     ]
    }
   ],
   "source": [
    "# evaluation using logistic regression\n",
    "classifier = train(train_features_p,train_label)\n",
    "validate_features_p = validate_features_p.reindex(labels=train_features_p.columns,fill_value=0,axis=1)\n",
    "preds = predict(classifier,validate_features_p)\n",
    "label = validate_labels['genre']\n",
    "CM, cr = evaluate(label,preds)\n",
    "print(\"\\nevaluation of Testing Data using Logistic Regression\\n\");\n",
    "print(\"Confusion Matrix:\")\n",
    "print(plot(CM))\n",
    "print(cr)"
   ]
  },
  {
   "cell_type": "markdown",
   "metadata": {},
   "source": [
    "### Perfromance of Naive Bayes on Audio and Text Features"
   ]
  },
  {
   "cell_type": "code",
   "execution_count": 26,
   "metadata": {},
   "outputs": [
    {
     "name": "stdout",
     "output_type": "stream",
     "text": [
      "\n",
      "evaluation of Testing Data using Naive Bayes\n",
      "\n",
      "Confusion Matrix:\n"
     ]
    },
    {
     "data": {
      "image/png": "[encoded data removed]",
      "text/plain": [
       "<Figure size 576x576 with 1 Axes>"
      ]
     },
     "metadata": {
      "needs_background": "light"
     },
     "output_type": "display_data"
    },
    {
     "name": "stdout",
     "output_type": "stream",
     "text": [
      "None\n",
      "                       precision    recall  f1-score   support\n",
      "\n",
      " classic pop and rock       0.23      0.27      0.25        55\n",
      "dance and electronica       0.24      0.20      0.22        45\n",
      "                 folk       0.63      0.38      0.47        64\n",
      "       jazz and blues       0.17      0.41      0.24        44\n",
      "                metal       0.82      0.64      0.72        66\n",
      "                  pop       0.93      1.00      0.96        74\n",
      "                 punk       0.96      0.59      0.73        44\n",
      "      soul and reggae       0.53      0.41      0.47        58\n",
      "\n",
      "             accuracy                           0.52       450\n",
      "            macro avg       0.56      0.49      0.51       450\n",
      "         weighted avg       0.59      0.52      0.54       450\n",
      "\n"
     ]
    }
   ],
   "source": [
    "# evaluation using Naive Bayes\n",
    "classifier = train_nb(train_features_p,train_label)\n",
    "preds = predict(classifier,validate_features_p)\n",
    "label = validate_labels['genre']\n",
    "CM, cr = evaluate(label,preds)\n",
    "print(\"\\nevaluation of Testing Data using Naive Bayes\\n\");\n",
    "print(\"Confusion Matrix:\")\n",
    "print(plot(CM))\n",
    "print(cr)"
   ]
  },
  {
   "cell_type": "markdown",
   "metadata": {},
   "source": [
    "### Perfromance of Decision Tree on Audio and Text Features"
   ]
  },
  {
   "cell_type": "code",
   "execution_count": 27,
   "metadata": {},
   "outputs": [
    {
     "name": "stderr",
     "output_type": "stream",
     "text": [
      "C:\\Users\\avipa\\anaconda3\\lib\\site-packages\\sklearn\\metrics\\_classification.py:1272: UndefinedMetricWarning: Precision and F-score are ill-defined and being set to 0.0 in labels with no predicted samples. Use `zero_division` parameter to control this behavior.\n",
      "  _warn_prf(average, modifier, msg_start, len(result))\n"
     ]
    },
    {
     "name": "stdout",
     "output_type": "stream",
     "text": [
      "\n",
      "evaluation of Testing Data using Decision Tree\n",
      "\n",
      "Confusion Matrix:\n"
     ]
    },
    {
     "data": {
      "image/png": "[encoded data removed]",
      "text/plain": [
       "<Figure size 576x576 with 1 Axes>"
      ]
     },
     "metadata": {
      "needs_background": "light"
     },
     "output_type": "display_data"
    },
    {
     "name": "stdout",
     "output_type": "stream",
     "text": [
      "None\n",
      "              precision    recall  f1-score   support\n",
      "\n",
      "           0       0.00      0.00      0.00        55\n",
      "           1       0.00      0.00      0.00        45\n",
      "           2       0.25      0.73      0.37        64\n",
      "           3       0.00      0.00      0.00        44\n",
      "           4       0.77      0.36      0.49        66\n",
      "           5       0.87      0.84      0.86        74\n",
      "           6       0.29      0.45      0.35        44\n",
      "           7       0.43      0.66      0.52        58\n",
      "\n",
      "    accuracy                           0.42       450\n",
      "   macro avg       0.33      0.38      0.32       450\n",
      "weighted avg       0.38      0.42      0.37       450\n",
      "\n"
     ]
    }
   ],
   "source": [
    "# evaluation using decision tree classifier\n",
    "lb = LabelEncoder()\n",
    "train_label_p = lb.fit_transform(train_label[\"genre\"])\n",
    "validate_labels_p = lb.fit_transform(validate_labels[\"genre\"])\n",
    "classifier = train_dt(train_features_p,train_label_p)\n",
    "validate_features_p = validate_features_p.reindex(labels=train_features_p.columns,fill_value=0,axis=1)\n",
    "preds = predict(classifier,validate_features_p)\n",
    "CM, cr = evaluate(validate_labels_p,preds)\n",
    "print(\"\\nevaluation of Testing Data using Decision Tree\\n\");\n",
    "print(\"Confusion Matrix:\")\n",
    "print(plot(CM))\n",
    "print(cr)"
   ]
  },
  {
   "cell_type": "code",
   "execution_count": 13,
   "metadata": {},
   "outputs": [],
   "source": [
    "#generate test_label file for kaggle competition\n",
    "test_features_p = test_features_p.reindex(labels=train_features_p.columns,fill_value=0,axis=1)\n",
    "preds = predict(classifier,test_features_p)\n",
    "preds = pd.DataFrame(preds,columns = ['genre'])\n",
    "df = pd.concat([test_features['trackID'],preds],axis = 1)\n",
    "df.to_csv(\"test_labels.csv\",index = None)"
   ]
  }
 ],
 "metadata": {
  "kernelspec": {
   "display_name": "Python 3",
   "language": "python",
   "name": "python3"
  },
  "language_info": {
   "codemirror_mode": {
    "name": "ipython",
    "version": 3
   },
   "file_extension": ".py",
   "mimetype": "text/x-python",
   "name": "python",
   "nbconvert_exporter": "python",
   "pygments_lexer": "ipython3",
   "version": "3.7.7"
  }
 },
 "nbformat": 4,
 "nbformat_minor": 4
}
